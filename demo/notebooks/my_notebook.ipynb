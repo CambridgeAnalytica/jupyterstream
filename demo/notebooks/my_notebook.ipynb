{
 "cells": [
  {
   "cell_type": "markdown",
   "metadata": {
    "toc": "true"
   },
   "source": [
    "# Table of Contents\n",
    " <p>"
   ]
  },
  {
   "cell_type": "code",
   "execution_count": null,
   "metadata": {
    "ExecuteTime": {
     "end_time": "2016-09-26T14:10:58.218983",
     "start_time": "2016-09-26T13:10:58.128Z"
    },
    "collapsed": true
   },
   "outputs": [],
   "source": [
    "import matplotlib.pyplot as plt\n",
    "%matplotlib inline\n",
    "import pandas as pd\n",
    "import numpy as np\n",
    "import sys"
   ]
  },
  {
   "cell_type": "code",
   "execution_count": null,
   "metadata": {
    "ExecuteTime": {
     "end_time": "2016-09-26T14:10:58.219923",
     "start_time": "2016-09-26T13:10:58.130Z"
    },
    "collapsed": false
   },
   "outputs": [],
   "source": [
    "#======= Update Me =======\n",
    "try:\n",
    "    # In case of running from current location\n",
    "    sys.path.append(\"../\")\n",
    "    import demo_path\n",
    "except:\n",
    "    # In case of running from `notebook_runs`\n",
    "    sys.path.append(\"../../\")\n",
    "    import demo_path    \n",
    "#=========================\n",
    "dir_runipy = demo_path.path\n",
    "print dir_runipy"
   ]
  },
  {
   "cell_type": "code",
   "execution_count": null,
   "metadata": {
    "ExecuteTime": {
     "end_time": "2016-09-26T14:10:58.220775",
     "start_time": "2016-09-26T13:10:58.131Z"
    },
    "collapsed": false
   },
   "outputs": [],
   "source": [
    "# The variable to stratify over\n",
    "from os import environ\n",
    "\n",
    "state_abrv = environ['state_abrv']"
   ]
  },
  {
   "cell_type": "code",
   "execution_count": null,
   "metadata": {
    "ExecuteTime": {
     "end_time": "2016-09-26T14:10:58.221620",
     "start_time": "2016-09-26T13:10:58.132Z"
    },
    "collapsed": false
   },
   "outputs": [],
   "source": [
    "dir_data = \"{}/data/\".format(dir_runipy)\n",
    "\n",
    "file_data = \"{}registration_counts_by_calendarweek_{}.csv\".format(dir_data, state_abrv)\n",
    "print file_data"
   ]
  },
  {
   "cell_type": "code",
   "execution_count": null,
   "metadata": {
    "ExecuteTime": {
     "end_time": "2016-09-26T14:10:58.222457",
     "start_time": "2016-09-26T13:10:58.133Z"
    },
    "collapsed": false,
    "scrolled": true
   },
   "outputs": [],
   "source": [
    "df = pd.read_csv(file_data)\n",
    "df[\"party\"] = df[\"party\"].str.replace(\" \",\"-\")\n",
    "print df.shape\n",
    "df"
   ]
  },
  {
   "cell_type": "code",
   "execution_count": null,
   "metadata": {
    "ExecuteTime": {
     "end_time": "2016-09-26T14:10:58.223333",
     "start_time": "2016-09-26T13:10:58.134Z"
    },
    "collapsed": false
   },
   "outputs": [],
   "source": [
    "fontsize=16\n",
    "alpha=0.7\n",
    "plt.figure(figsize=(16,5))\n",
    "width = 0.06\n",
    "\n",
    "\n",
    "df_temp = df[df[\"party\"] == \"Democrat\"]\n",
    "xx = df_temp[\"iso_calendar_week\"]/(365./12./7.)\n",
    "plt.bar(xx, df_temp[\"count\"], width=width, label=\"Democrat\", color=\"blue\", alpha=alpha)\n",
    "\n",
    "df_temp = df[df[\"party\"] == \"Republican\"]\n",
    "xx = df_temp[\"iso_calendar_week\"]/(365./12./7.)\n",
    "plt.bar(xx + width, df_temp[\"count\"], width=width, label=\"Republican\", color=\"red\", alpha=alpha)\n",
    "\n",
    "df_temp = df[df[\"party\"] == \"Non-Partisan\"]\n",
    "if df_temp.shape[0] > 0:\n",
    "    xx = df_temp[\"iso_calendar_week\"]/(365./12./7.)\n",
    "    plt.bar(xx+2.*width, df_temp[\"count\"], width=width, label=\"Non Partisan\", color=\"green\", alpha=alpha)\n",
    "\n",
    "\n",
    "\n",
    "plt.xticks(np.arange(0.5,12.5), [\"Jan\",\"Feb\",\"Mar\",\"Apr\",\"May\",\"Jun\",\"July\",\"Aug\",\"Sep\",\"Oct\",\"Nov\",\"Dec\"], fontsize=fontsize)\n",
    "plt.xlim(0.,12.5)\n",
    "plt.legend(loc=\"upper left\", fontsize=fontsize)\n",
    "junk = plt.title(\"{}   ({})\".format(state_abrv, \"2009-2015\"), fontsize=fontsize)"
   ]
  }
 ],
 "metadata": {
  "kernelspec": {
   "display_name": "Python 2",
   "language": "python",
   "name": "python2"
  },
  "language_info": {
   "codemirror_mode": {
    "name": "ipython",
    "version": 2
   },
   "file_extension": ".py",
   "mimetype": "text/x-python",
   "name": "python",
   "nbconvert_exporter": "python",
   "pygments_lexer": "ipython2",
   "version": "2.7.8"
  },
  "nav_menu": {},
  "toc": {
   "navigate_menu": true,
   "number_sections": true,
   "sideBar": true,
   "threshold": 6,
   "toc_cell": true,
   "toc_section_display": "block",
   "toc_window_display": false
  }
 },
 "nbformat": 4,
 "nbformat_minor": 0
}
