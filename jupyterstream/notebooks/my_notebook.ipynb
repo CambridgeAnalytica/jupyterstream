{
 "cells": [
  {
   "cell_type": "markdown",
   "metadata": {
    "toc": "true"
   },
   "source": [
    "# Table of Contents\n",
    " <p>"
   ]
  },
  {
   "cell_type": "code",
   "execution_count": 25,
   "metadata": {
    "ExecuteTime": {
     "end_time": "2016-09-19T17:57:36.345274",
     "start_time": "2016-09-19T17:57:36.330440"
    },
    "collapsed": true
   },
   "outputs": [],
   "source": [
    "import matplotlib.pyplot as plt\n",
    "%matplotlib inline\n",
    "import pandas as pd\n",
    "import numpy as np"
   ]
  },
  {
   "cell_type": "code",
   "execution_count": 36,
   "metadata": {
    "ExecuteTime": {
     "end_time": "2016-09-19T18:01:23.254432",
     "start_time": "2016-09-19T18:01:23.251885"
    },
    "collapsed": false
   },
   "outputs": [],
   "source": [
    "#======= Update Me =======\n",
    "dir_runipy = \"/home/eyalk/projects/blog/runipy/\"\n",
    "#=========================\n",
    "print dir_runipy"
   ]
  },
  {
   "cell_type": "code",
   "execution_count": 28,
   "metadata": {
    "ExecuteTime": {
     "end_time": "2016-09-19T17:58:12.060100",
     "start_time": "2016-09-19T17:58:12.056932"
    },
    "collapsed": true
   },
   "outputs": [],
   "source": [
    "# The variable to stratify over\n",
    "from os import environ\n",
    "\n",
    "state_abrv = environ['state_abrv']"
   ]
  },
  {
   "cell_type": "code",
   "execution_count": 35,
   "metadata": {
    "ExecuteTime": {
     "end_time": "2016-09-19T18:01:13.889593",
     "start_time": "2016-09-19T18:01:13.886421"
    },
    "collapsed": false
   },
   "outputs": [],
   "source": [
    "dir_data = \"{}/data/\".format(dir_runipy)\n",
    "\n",
    "file_data = \"{}registration_counts_by_calendarweek_{}.csv\".format(dir_data, state_abrv)\n",
    "print file_data"
   ]
  },
  {
   "cell_type": "code",
   "execution_count": 34,
   "metadata": {
    "ExecuteTime": {
     "end_time": "2016-09-19T18:01:07.508513",
     "start_time": "2016-09-19T18:01:07.503794"
    },
    "collapsed": false,
    "scrolled": true
   },
   "outputs": [],
   "source": [
    "df = pd.read_csv(file_data)\n",
    "df[\"party\"] = df[\"party\"].str.replace(\" \",\"-\")\n",
    "print df.shape\n",
    "df"
   ]
  },
  {
   "cell_type": "code",
   "execution_count": 33,
   "metadata": {
    "ExecuteTime": {
     "end_time": "2016-09-19T18:00:43.141048",
     "start_time": "2016-09-19T18:00:43.137267"
    },
    "collapsed": false
   },
   "outputs": [],
   "source": [
    "fontsize=16\n",
    "alpha=0.7\n",
    "plt.figure(figsize=(16,5))\n",
    "width = 0.06\n",
    "\n",
    "\n",
    "df_temp = df[df[\"party\"] == \"Democrat\"]\n",
    "xx = df_temp[\"iso_calendar_week\"]/(365./12./7.)\n",
    "plt.bar(xx, df_temp[\"count\"], width=width, label=\"Democrat\", color=\"blue\", alpha=alpha)\n",
    "\n",
    "df_temp = df[df[\"party\"] == \"Republican\"]\n",
    "xx = df_temp[\"iso_calendar_week\"]/(365./12./7.)\n",
    "plt.bar(xx + width, df_temp[\"count\"], width=width, label=\"Republican\", color=\"red\", alpha=alpha)\n",
    "\n",
    "df_temp = df[df[\"party\"] == \"Non-Partis\"]\n",
    "if df_temp.shape[0] > 0:\n",
    "    xx = df_temp[\"iso_calendar_week\"]/(365./12./7.)\n",
    "    plt.bar(xx+2.*width, df_temp[\"count\"], width=width, label=\"Non Partisan\", color=\"green\", alpha=alpha)\n",
    "\n",
    "\n",
    "\n",
    "plt.xticks(np.arange(0.5,12.5), [\"Jan\",\"Feb\",\"Mar\",\"Apr\",\"May\",\"Jun\",\"July\",\"Aug\",\"Sep\",\"Oct\",\"Nov\",\"Dec\"], fontsize=fontsize)\n",
    "plt.xlim(0.,12.5)\n",
    "plt.legend(loc=\"upper left\", fontsize=fontsize)\n",
    "junk = plt.title(\"{}   ({})\".format(state_abrv, \"2009-2015\"), fontsize=fontsize)"
   ]
  },
  {
   "cell_type": "code",
   "execution_count": 46,
   "metadata": {
    "ExecuteTime": {
     "end_time": "2016-09-22T09:00:16.211346",
     "start_time": "2016-09-22T09:00:16.162640"
    },
    "collapsed": false
   },
   "outputs": [],
   "source": [
    "#import glob\n",
    "#glob.glob(dir_data+\"*.csv\")"
   ]
  },
  {
   "cell_type": "code",
   "execution_count": null,
   "metadata": {
    "collapsed": true
   },
   "outputs": [],
   "source": []
  }
 ],
 "metadata": {
  "kernelspec": {
   "display_name": "Python 2",
   "language": "python",
   "name": "python2"
  },
  "language_info": {
   "codemirror_mode": {
    "name": "ipython",
    "version": 2
   },
   "file_extension": ".py",
   "mimetype": "text/x-python",
   "name": "python",
   "nbconvert_exporter": "python",
   "pygments_lexer": "ipython2",
   "version": "2.7.6"
  },
  "nav_menu": {},
  "toc": {
   "navigate_menu": true,
   "number_sections": true,
   "sideBar": true,
   "threshold": 6,
   "toc_cell": true,
   "toc_section_display": "block",
   "toc_window_display": false
  }
 },
 "nbformat": 4,
 "nbformat_minor": 0
}
